{
 "cells": [
  {
   "cell_type": "code",
   "execution_count": null,
   "metadata": {},
   "outputs": [],
   "source": [
    "\n"
   ]
  },
  {
   "cell_type": "code",
   "execution_count": 42,
   "metadata": {},
   "outputs": [
    {
     "name": "stdout",
     "output_type": "stream",
     "text": [
      "dataset shape is (1797, 64)\n"
     ]
    },
    {
     "name": "stdout",
     "output_type": "stream",
     "text": [
      "Before decryption b'\\x80\\x04\\x95\\x86\\x02\\x00\\x00\\x00\\x00\\x00\\x00}\\x94(\\x8c\\x06sample\\x94]\\x94(G\\x00\\x00\\x00\\x00\\x00\\x00\\x00\\x00G\\x00\\x00\\x00\\x00\\x00\\x00\\x00\\x00G\\x00\\x00\\x00\\x00\\x00\\x00\\x00\\x00G@\\x1c\\x00\\x00\\x00\\x00\\x00\\x00G@(\\x00\\x00\\x00\\x00\\x00\\x00G\\x00\\x00\\x00\\x00\\x00\\x00\\x00\\x00G\\x00\\x00\\x00\\x00\\x00\\x00\\x00\\x00G\\x00\\x00\\x00\\x00\\x00\\x00\\x00\\x00G\\x00\\x00\\x00\\x00\\x00\\x00\\x00\\x00G\\x00\\x00\\x00\\x00\\x00\\x00\\x00\\x00G@\\x10\\x00\\x00\\x00\\x00\\x00\\x00G@0\\x00\\x00\\x00\\x00\\x00\\x00G@ \\x00\\x00\\x00\\x00\\x00\\x00G\\x00\\x00\\x00\\x00\\x00\\x00\\x00\\x00G\\x00\\x00\\x00\\x00\\x00\\x00\\x00\\x00G\\x00\\x00\\x00\\x00\\x00\\x00\\x00\\x00G\\x00\\x00\\x00\\x00\\x00\\x00\\x00\\x00G\\x00\\x00\\x00\\x00\\x00\\x00\\x00\\x00G@(\\x00\\x00\\x00\\x00\\x00\\x00G@&\\x00\\x00\\x00\\x00\\x00\\x00G\\x00\\x00\\x00\\x00\\x00\\x00\\x00\\x00G\\x00\\x00\\x00\\x00\\x00\\x00\\x00\\x00G\\x00\\x00\\x00\\x00\\x00\\x00\\x00\\x00G\\x00\\x00\\x00\\x00\\x00\\x00\\x00\\x00G\\x00\\x00\\x00\\x00\\x00\\x00\\x00\\x00G\\x00\\x00\\x00\\x00\\x00\\x00\\x00\\x00G@.\\x00\\x00\\x00\\x00\\x00\\x00G@$\\x00\\x00\\x00\\x00\\x00\\x00G@ \\x00\\x00\\x00\\x00\\x00\\x00G@\\x18\\x00\\x00\\x00\\x00\\x00\\x00G?\\xf0\\x00\\x00\\x00\\x00\\x00\\x00G\\x00\\x00\\x00\\x00\\x00\\x00\\x00\\x00G\\x00\\x00\\x00\\x00\\x00\\x00\\x00\\x00G\\x00\\x00\\x00\\x00\\x00\\x00\\x00\\x00G@.\\x00\\x00\\x00\\x00\\x00\\x00G@0\\x00\\x00\\x00\\x00\\x00\\x00G@ \\x00\\x00\\x00\\x00\\x00\\x00G@$\\x00\\x00\\x00\\x00\\x00\\x00G@ \\x00\\x00\\x00\\x00\\x00\\x00G\\x00\\x00\\x00\\x00\\x00\\x00\\x00\\x00G\\x00\\x00\\x00\\x00\\x00\\x00\\x00\\x00G\\x00\\x00\\x00\\x00\\x00\\x00\\x00\\x00G@,\\x00\\x00\\x00\\x00\\x00\\x00G@\\x1c\\x00\\x00\\x00\\x00\\x00\\x00G\\x00\\x00\\x00\\x00\\x00\\x00\\x00\\x00G\\x00\\x00\\x00\\x00\\x00\\x00\\x00\\x00G@(\\x00\\x00\\x00\\x00\\x00\\x00G\\x00\\x00\\x00\\x00\\x00\\x00\\x00\\x00G\\x00\\x00\\x00\\x00\\x00\\x00\\x00\\x00G\\x00\\x00\\x00\\x00\\x00\\x00\\x00\\x00G@ \\x00\\x00\\x00\\x00\\x00\\x00G@&\\x00\\x00\\x00\\x00\\x00\\x00G\\x00\\x00\\x00\\x00\\x00\\x00\\x00\\x00G@\\x14\\x00\\x00\\x00\\x00\\x00\\x00G@0\\x00\\x00\\x00\\x00\\x00\\x00G@\\x00\\x00\\x00\\x00\\x00\\x00\\x00G\\x00\\x00\\x00\\x00\\x00\\x00\\x00\\x00G\\x00\\x00\\x00\\x00\\x00\\x00\\x00\\x00G\\x00\\x00\\x00\\x00\\x00\\x00\\x00\\x00G@\"\\x00\\x00\\x00\\x00\\x00\\x00G@,\\x00\\x00\\x00\\x00\\x00\\x00G@,\\x00\\x00\\x00\\x00\\x00\\x00G@\\x14\\x00\\x00\\x00\\x00\\x00\\x00G\\x00\\x00\\x00\\x00\\x00\\x00\\x00\\x00e\\x8c\\nrequest_id\\x94\\x8c$156153bd-9568-4074-9e65-69c7ce211079\\x94u.'Before decryption b'\\x80\\x04\\x95\\x86\\x02\\x00\\x00\\x00\\x00\\x00\\x00}\\x94(\\x8c\\x06sample\\x94]\\x94(G\\x00\\x00\\x00\\x00\\x00\\x00\\x00\\x00G\\x00\\x00\\x00\\x00\\x00\\x00\\x00\\x00G\\x00\\x00\\x00\\x00\\x00\\x00\\x00\\x00G@\\x1c\\x00\\x00\\x00\\x00\\x00\\x00G@(\\x00\\x00\\x00\\x00\\x00\\x00G\\x00\\x00\\x00\\x00\\x00\\x00\\x00\\x00G\\x00\\x00\\x00\\x00\\x00\\x00\\x00\\x00G\\x00\\x00\\x00\\x00\\x00\\x00\\x00\\x00G\\x00\\x00\\x00\\x00\\x00\\x00\\x00\\x00G\\x00\\x00\\x00\\x00\\x00\\x00\\x00\\x00G@\\x10\\x00\\x00\\x00\\x00\\x00\\x00G@0\\x00\\x00\\x00\\x00\\x00\\x00G@ \\x00\\x00\\x00\\x00\\x00\\x00G\\x00\\x00\\x00\\x00\\x00\\x00\\x00\\x00G\\x00\\x00\\x00\\x00\\x00\\x00\\x00\\x00G\\x00\\x00\\x00\\x00\\x00\\x00\\x00\\x00G\\x00\\x00\\x00\\x00\\x00\\x00\\x00\\x00G\\x00\\x00\\x00\\x00\\x00\\x00\\x00\\x00G@(\\x00\\x00\\x00\\x00\\x00\\x00G@&\\x00\\x00\\x00\\x00\\x00\\x00G\\x00\\x00\\x00\\x00\\x00\\x00\\x00\\x00G\\x00\\x00\\x00\\x00\\x00\\x00\\x00\\x00G\\x00\\x00\\x00\\x00\\x00\\x00\\x00\\x00G\\x00\\x00\\x00\\x00\\x00\\x00\\x00\\x00G\\x00\\x00\\x00\\x00\\x00\\x00\\x00\\x00G\\x00\\x00\\x00\\x00\\x00\\x00\\x00\\x00G@.\\x00\\x00\\x00\\x00\\x00\\x00G@$\\x00\\x00\\x00\\x00\\x00\\x00G@ \\x00\\x00\\x00\\x00\\x00\\x00G@\\x18\\x00\\x00\\x00\\x00\\x00\\x00G?\\xf0\\x00\\x00\\x00\\x00\\x00\\x00G\\x00\\x00\\x00\\x00\\x00\\x00\\x00\\x00G\\x00\\x00\\x00\\x00\\x00\\x00\\x00\\x00G\\x00\\x00\\x00\\x00\\x00\\x00\\x00\\x00G@.\\x00\\x00\\x00\\x00\\x00\\x00G@0\\x00\\x00\\x00\\x00\\x00\\x00G@ \\x00\\x00\\x00\\x00\\x00\\x00G@$\\x00\\x00\\x00\\x00\\x00\\x00G@ \\x00\\x00\\x00\\x00\\x00\\x00G\\x00\\x00\\x00\\x00\\x00\\x00\\x00\\x00G\\x00\\x00\\x00\\x00\\x00\\x00\\x00\\x00G\\x00\\x00\\x00\\x00\\x00\\x00\\x00\\x00G@,\\x00\\x00\\x00\\x00\\x00\\x00G@\\x1c\\x00\\x00\\x00\\x00\\x00\\x00G\\x00\\x00\\x00\\x00\\x00\\x00\\x00\\x00G\\x00\\x00\\x00\\x00\\x00\\x00\\x00\\x00G@(\\x00\\x00\\x00\\x00\\x00\\x00G\\x00\\x00\\x00\\x00\\x00\\x00\\x00\\x00G\\x00\\x00\\x00\\x00\\x00\\x00\\x00\\x00G\\x00\\x00\\x00\\x00\\x00\\x00\\x00\\x00G@ \\x00\\x00\\x00\\x00\\x00\\x00G@&\\x00\\x00\\x00\\x00\\x00\\x00G\\x00\\x00\\x00\\x00\\x00\\x00\\x00\\x00G@\\x14\\x00\\x00\\x00\\x00\\x00\\x00G@0\\x00\\x00\\x00\\x00\\x00\\x00G@\\x00\\x00\\x00\\x00\\x00\\x00\\x00G\\x00\\x00\\x00\\x00\\x00\\x00\\x00\\x00G\\x00\\x00\\x00\\x00\\x00\\x00\\x00\\x00G\\x00\\x00\\x00\\x00\\x00\\x00\\x00\\x00G@\"\\x00\\x00\\x00\\x00\\x00\\x00G@,\\x00\\x00\\x00\\x00\\x00\\x00G@,\\x00\\x00\\x00\\x00\\x00\\x00G@\\x14\\x00\\x00\\x00\\x00\\x00\\x00G\\x00\\x00\\x00\\x00\\x00\\x00\\x00\\x00e\\x8c\\nrequest_id\\x94\\x8c$156153bd-9568-4074-9e65-69c7ce211079\\x94u.'\n",
      "After decryption {'sample': [0.0, 0.0, 0.0, 7.0, 12.0, 0.0, 0.0, 0.0, 0.0, 0.0, 4.0, 16.0, 8.0, 0.0, 0.0, 0.0, 0.0, 0.0, 12.0, 11.0, 0.0, 0.0, 0.0, 0.0, 0.0, 0.0, 15.0, 10.0, 8.0, 6.0, 1.0, 0.0, 0.0, 0.0, 15.0, 16.0, 8.0, 10.0, 8.0, 0.0, 0.0, 0.0, 14.0, 7.0, 0.0, 0.0, 12.0, 0.0, 0.0, 0.0, 8.0, 11.0, 0.0, 5.0, 16.0, 2.0, 0.0, 0.0, 0.0, 9.0, 14.0, 14.0, 5.0, 0.0], 'request_id': '156153bd-9568-4074-9e65-69c7ce211079'}\n",
      "Before decryption b'\\x80\\x04\\x95\\x86\\x02\\x00\\x00\\x00\\x00\\x00\\x00}\\x94(\\x8c\\x06sample\\x94]\\x94(G\\x00\\x00\\x00\\x00\\x00\\x00\\x00\\x00G\\x00\\x00\\x00\\x00\\x00\\x00\\x00\\x00G\\x00\\x00\\x00\\x00\\x00\\x00\\x00\\x00G@\\x1c\\x00\\x00\\x00\\x00\\x00\\x00G@(\\x00\\x00\\x00\\x00\\x00\\x00G\\x00\\x00\\x00\\x00\\x00\\x00\\x00\\x00G\\x00\\x00\\x00\\x00\\x00\\x00\\x00\\x00G\\x00\\x00\\x00\\x00\\x00\\x00\\x00\\x00G\\x00\\x00\\x00\\x00\\x00\\x00\\x00\\x00G\\x00\\x00\\x00\\x00\\x00\\x00\\x00\\x00G@\\x10\\x00\\x00\\x00\\x00\\x00\\x00G@0\\x00\\x00\\x00\\x00\\x00\\x00G@ \\x00\\x00\\x00\\x00\\x00\\x00G\\x00\\x00\\x00\\x00\\x00\\x00\\x00\\x00G\\x00\\x00\\x00\\x00\\x00\\x00\\x00\\x00G\\x00\\x00\\x00\\x00\\x00\\x00\\x00\\x00G\\x00\\x00\\x00\\x00\\x00\\x00\\x00\\x00G\\x00\\x00\\x00\\x00\\x00\\x00\\x00\\x00G@(\\x00\\x00\\x00\\x00\\x00\\x00G@&\\x00\\x00\\x00\\x00\\x00\\x00G\\x00\\x00\\x00\\x00\\x00\\x00\\x00\\x00G\\x00\\x00\\x00\\x00\\x00\\x00\\x00\\x00G\\x00\\x00\\x00\\x00\\x00\\x00\\x00\\x00G\\x00\\x00\\x00\\x00\\x00\\x00\\x00\\x00G\\x00\\x00\\x00\\x00\\x00\\x00\\x00\\x00G\\x00\\x00\\x00\\x00\\x00\\x00\\x00\\x00G@.\\x00\\x00\\x00\\x00\\x00\\x00G@$\\x00\\x00\\x00\\x00\\x00\\x00G@ \\x00\\x00\\x00\\x00\\x00\\x00G@\\x18\\x00\\x00\\x00\\x00\\x00\\x00G?\\xf0\\x00\\x00\\x00\\x00\\x00\\x00G\\x00\\x00\\x00\\x00\\x00\\x00\\x00\\x00G\\x00\\x00\\x00\\x00\\x00\\x00\\x00\\x00G\\x00\\x00\\x00\\x00\\x00\\x00\\x00\\x00G@.\\x00\\x00\\x00\\x00\\x00\\x00G@0\\x00\\x00\\x00\\x00\\x00\\x00G@ \\x00\\x00\\x00\\x00\\x00\\x00G@$\\x00\\x00\\x00\\x00\\x00\\x00G@ \\x00\\x00\\x00\\x00\\x00\\x00G\\x00\\x00\\x00\\x00\\x00\\x00\\x00\\x00G\\x00\\x00\\x00\\x00\\x00\\x00\\x00\\x00G\\x00\\x00\\x00\\x00\\x00\\x00\\x00\\x00G@,\\x00\\x00\\x00\\x00\\x00\\x00G@\\x1c\\x00\\x00\\x00\\x00\\x00\\x00G\\x00\\x00\\x00\\x00\\x00\\x00\\x00\\x00G\\x00\\x00\\x00\\x00\\x00\\x00\\x00\\x00G@(\\x00\\x00\\x00\\x00\\x00\\x00G\\x00\\x00\\x00\\x00\\x00\\x00\\x00\\x00G\\x00\\x00\\x00\\x00\\x00\\x00\\x00\\x00G\\x00\\x00\\x00\\x00\\x00\\x00\\x00\\x00G@ \\x00\\x00\\x00\\x00\\x00\\x00G@&\\x00\\x00\\x00\\x00\\x00\\x00G\\x00\\x00\\x00\\x00\\x00\\x00\\x00\\x00G@\\x14\\x00\\x00\\x00\\x00\\x00\\x00G@0\\x00\\x00\\x00\\x00\\x00\\x00G@\\x00\\x00\\x00\\x00\\x00\\x00\\x00G\\x00\\x00\\x00\\x00\\x00\\x00\\x00\\x00G\\x00\\x00\\x00\\x00\\x00\\x00\\x00\\x00G\\x00\\x00\\x00\\x00\\x00\\x00\\x00\\x00G@\"\\x00\\x00\\x00\\x00\\x00\\x00G@,\\x00\\x00\\x00\\x00\\x00\\x00G@,\\x00\\x00\\x00\\x00\\x00\\x00G@\\x14\\x00\\x00\\x00\\x00\\x00\\x00G\\x00\\x00\\x00\\x00\\x00\\x00\\x00\\x00e\\x8c\\nrequest_id\\x94\\x8c$156153bd-9568-4074-9e65-69c7ce211079\\x94u.'\n",
      "After decryption {'sample': [0.0, 0.0, 0.0, 7.0, 12.0, 0.0, 0.0, 0.0, 0.0, 0.0, 4.0, 16.0, 8.0, 0.0, 0.0, 0.0, 0.0, 0.0, 12.0, 11.0, 0.0, 0.0, 0.0, 0.0, 0.0, 0.0, 15.0, 10.0, 8.0, 6.0, 1.0, 0.0, 0.0, 0.0, 15.0, 16.0, 8.0, 10.0, 8.0, 0.0, 0.0, 0.0, 14.0, 7.0, 0.0, 0.0, 12.0, 0.0, 0.0, 0.0, 8.0, 11.0, 0.0, 5.0, 16.0, 2.0, 0.0, 0.0, 0.0, 9.0, 14.0, 14.0, 5.0, 0.0], 'request_id': '156153bd-9568-4074-9e65-69c7ce211079'}\n",
      "\n",
      "After decryption {'sample': [0.0, 0.0, 0.0, 7.0, 12.0, 0.0, 0.0, 0.0, 0.0, 0.0, 4.0, 16.0, 8.0, 0.0, 0.0, 0.0, 0.0, 0.0, 12.0, 11.0, 0.0, 0.0, 0.0, 0.0, 0.0, 0.0, 15.0, 10.0, 8.0, 6.0, 1.0, 0.0, 0.0, 0.0, 15.0, 16.0, 8.0, 10.0, 8.0, 0.0, 0.0, 0.0, 14.0, 7.0, 0.0, 0.0, 12.0, 0.0, 0.0, 0.0, 8.0, 11.0, 0.0, 5.0, 16.0, 2.0, 0.0, 0.0, 0.0, 9.0, 14.0, 14.0, 5.0, 0.0], 'request_id': '156153bd-9568-4074-9e65-69c7ce211079'}\n"
     ]
    }
   ],
   "source": [
    "import numpy as np\n",
    "from sklearn.neighbors import KNeighborsClassifier\n",
    "from sklearn.datasets import load_iris\n",
    "from sklearn.model_selection import train_test_split\n",
    "import redis\n",
    "import pickle\n",
    "import threading\n",
    "import matplotlib.pyplot as plt\n",
    "import json\n",
    "import hmac\n",
    "import hashlib\n",
    "from collections import deque\n",
    "from cryptography.fernet import Fernet\n",
    "import base64\n",
    "from cryptography.hazmat.backends import default_backend\n",
    "from cryptography.hazmat.primitives import hashes\n",
    "from cryptography.hazmat.primitives.kdf.hkdf import HKDF\n",
    "\n",
    "\n",
    "\n",
    "import time\n",
    "\n",
    "\n",
    "SECRET_KEY = b'my_secret_key'\n",
    "\n",
    "# Encryption key (this should be securely shared between aggregator and nodes)\n",
    "key = b'password'\n",
    "hkdf = HKDF(\n",
    "    algorithm=hashes.SHA256(),  # You can swap this out for hashes.MD5()\n",
    "    length=32,\n",
    "    salt=None,    # You may be able to remove this line but I'm unable to test\n",
    "    info=None,    # You may also be able to remove this line\n",
    "     backend=default_backend() )\n",
    "key = base64.urlsafe_b64encode(hkdf.derive(key))\n",
    "cipher_suite = Fernet(key)\n",
    "\n",
    "\n",
    "class KNNNode:\n",
    "    def __init__(self, node_id, local_data, local_labels, distance, tamper=False):\n",
    "        self.node_id = node_id\n",
    "        self.local_data = local_data\n",
    "        self.original_labels = local_labels\n",
    "        if tamper:\n",
    "            self.local_labels = self.flip_labels(local_labels)\n",
    "        else:\n",
    "            self.local_labels = local_labels\n",
    "        self.knn = KNeighborsClassifier(n_neighbors=5, metric=distance)\n",
    "        self.knn.fit(self.local_data, self.local_labels)\n",
    "        self.redis_client = redis.StrictRedis(host='localhost', port=6379, db=0, password='secret_key')\n",
    "        self.subscribe_channel = f'knn_{distance}_request_channel_{self.node_id}'\n",
    "        self.publish_channel = 'knn_response_channel'\n",
    "        self._listen_thread = threading.Thread(target=self.listen_for_requests)\n",
    "        self._listen_thread.start()\n",
    "\n",
    "    def tamper_data (self):\n",
    "        self.local_labels = self.flip_labels(self.original_labels)        \n",
    "        self.knn.fit(self.local_data, self.local_labels)\n",
    "    \n",
    "    def de_tamper_data (self):\n",
    "        self.local_labels =  self.original_labels        \n",
    "        self.knn.fit(self.local_data, self.local_labels)\n",
    "        \n",
    "    def flip_labels(self, labels):\n",
    "        flipped_labels = np.copy(labels)\n",
    "        for i in range(len(labels)):\n",
    "            if labels[i] == 2:\n",
    "                flipped_labels[i] = 1\n",
    "            elif labels[i] == 1:\n",
    "                flipped_labels[i] = 2\n",
    "        return flipped_labels\n",
    "    \n",
    "        \n",
    "    def sign_message(self, message):\n",
    "        message_json = json.dumps(message)\n",
    "        signature = hmac.new(SECRET_KEY, message_json.encode(), hashlib.sha256).hexdigest()\n",
    "        return {'message': message, 'signature': signature}\n",
    "\n",
    "    def is_encrypted(self,data):\n",
    "        try:\n",
    "           cipher_suite.decrypt(data)\n",
    "           return True\n",
    "        except Exception:\n",
    "            return False\n",
    "\n",
    "    def listen_for_requests(self):\n",
    "        pubsub = self.redis_client.pubsub()\n",
    "        pubsub.subscribe(self.subscribe_channel)\n",
    "        for message in pubsub.listen():\n",
    "            if message['type'] == 'message':\n",
    "                encrypted_data = message['data']\n",
    "                print(f'Before decryption {encrypted_data}')\n",
    "                if(self.is_encrypted(encrypted_data)):\n",
    "                    request_data = cipher_suite.decrypt(encrypted_data)\n",
    "                    \n",
    "                    \n",
    "                else:\n",
    "                    request_data = encrypted_data\n",
    "                request_data = pickle.loads(request_data)\n",
    "\n",
    "                print(f'After decryption {request_data}')  \n",
    "                sample = request_data['sample']\n",
    "                request_id = request_data['request_id']\n",
    "                self.process_request(sample, request_id)\n",
    "\n",
    "\n",
    "    def process_request(self, sample, request_id):\n",
    "        distances, indices = self.knn.kneighbors([sample], n_neighbors=3)\n",
    "        predictions = [self.local_labels[i] for i in indices.tolist()]\n",
    "        \n",
    "        response_data = {\n",
    "            'node_id': self.node_id,\n",
    "            'prediction': predictions[0].tolist(),\n",
    "            'distances': distances[0].tolist(),\n",
    "            'request_id': request_id\n",
    "        }\n",
    "        \n",
    "        signed_message = self.sign_message(response_data)            \n",
    "        self.redis_client.publish(self.publish_channel, pickle.dumps(signed_message))\n",
    "\n",
    "\n",
    "\n",
    "# Load Dataset\n",
    "\n",
    "from sklearn.datasets import load_digits\n",
    "mnist = load_digits()\n",
    "print(f'dataset shape is {mnist.data.shape}')\n",
    "X = mnist.data \n",
    "y = mnist.target\n",
    "\n",
    "# Split the dataset into training and testing sets\n",
    "X_train, X_test, y_train, y_test = train_test_split(X, y, test_size=0.2, random_state=42)\n",
    "\n",
    "# Simulate multiple nodes by splitting the training data\n",
    "num_nodes = 3\n",
    "X_train_split = np.array_split(X_train, num_nodes)\n",
    "y_train_split = np.array_split(y_train, num_nodes)\n",
    "\n",
    "\n",
    "# Initialize euclidean nodes with their local data\n",
    "node_1 = KNNNode(node_id=1, local_data=X_train_split[0], local_labels=y_train_split[0],distance='euclidean')\n",
    "node_2 = KNNNode(node_id=2, local_data=X_train_split[1], local_labels=y_train_split[1],distance='euclidean')\n",
    "node_3 = KNNNode(node_id=3, local_data=X_train_split[2], local_labels=y_train_split[2],distance='euclidean')\n",
    "\n",
    "\n",
    "# Initialize manhattan nodes with their local data\n",
    "node_1__m = KNNNode(node_id=1, local_data=X_train_split[0], local_labels=y_train_split[0],distance='manhattan')\n",
    "node_2_m = KNNNode(node_id=2, local_data=X_train_split[1], local_labels=y_train_split[1],distance='manhattan')\n",
    "node_3_m = KNNNode(node_id=3, local_data=X_train_split[2], local_labels=y_train_split[2],distance='manhattan')\n",
    "\n",
    "\n",
    "# Initialize cosine nodes with their local data\n",
    "node_1_c = KNNNode(node_id=1, local_data=X_train_split[0], local_labels=y_train_split[0],distance='cosine')\n",
    "node_2_c = KNNNode(node_id=2, local_data=X_train_split[1], local_labels=y_train_split[1],distance='cosine')\n",
    "node_3_c = KNNNode(node_id=3, local_data=X_train_split[2], local_labels=y_train_split[2],distance='cosine')"
   ]
  },
  {
   "cell_type": "code",
   "execution_count": 39,
   "metadata": {},
   "outputs": [
    {
     "data": {
      "text/plain": [
       "{'data': array([[ 0.,  0.,  5., ...,  0.,  0.,  0.],\n",
       "        [ 0.,  0.,  0., ..., 10.,  0.,  0.],\n",
       "        [ 0.,  0.,  0., ..., 16.,  9.,  0.],\n",
       "        ...,\n",
       "        [ 0.,  0.,  1., ...,  6.,  0.,  0.],\n",
       "        [ 0.,  0.,  2., ..., 12.,  0.,  0.],\n",
       "        [ 0.,  0., 10., ..., 12.,  1.,  0.]]),\n",
       " 'target': array([0, 1, 2, ..., 8, 9, 8]),\n",
       " 'frame': None,\n",
       " 'feature_names': ['pixel_0_0',\n",
       "  'pixel_0_1',\n",
       "  'pixel_0_2',\n",
       "  'pixel_0_3',\n",
       "  'pixel_0_4',\n",
       "  'pixel_0_5',\n",
       "  'pixel_0_6',\n",
       "  'pixel_0_7',\n",
       "  'pixel_1_0',\n",
       "  'pixel_1_1',\n",
       "  'pixel_1_2',\n",
       "  'pixel_1_3',\n",
       "  'pixel_1_4',\n",
       "  'pixel_1_5',\n",
       "  'pixel_1_6',\n",
       "  'pixel_1_7',\n",
       "  'pixel_2_0',\n",
       "  'pixel_2_1',\n",
       "  'pixel_2_2',\n",
       "  'pixel_2_3',\n",
       "  'pixel_2_4',\n",
       "  'pixel_2_5',\n",
       "  'pixel_2_6',\n",
       "  'pixel_2_7',\n",
       "  'pixel_3_0',\n",
       "  'pixel_3_1',\n",
       "  'pixel_3_2',\n",
       "  'pixel_3_3',\n",
       "  'pixel_3_4',\n",
       "  'pixel_3_5',\n",
       "  'pixel_3_6',\n",
       "  'pixel_3_7',\n",
       "  'pixel_4_0',\n",
       "  'pixel_4_1',\n",
       "  'pixel_4_2',\n",
       "  'pixel_4_3',\n",
       "  'pixel_4_4',\n",
       "  'pixel_4_5',\n",
       "  'pixel_4_6',\n",
       "  'pixel_4_7',\n",
       "  'pixel_5_0',\n",
       "  'pixel_5_1',\n",
       "  'pixel_5_2',\n",
       "  'pixel_5_3',\n",
       "  'pixel_5_4',\n",
       "  'pixel_5_5',\n",
       "  'pixel_5_6',\n",
       "  'pixel_5_7',\n",
       "  'pixel_6_0',\n",
       "  'pixel_6_1',\n",
       "  'pixel_6_2',\n",
       "  'pixel_6_3',\n",
       "  'pixel_6_4',\n",
       "  'pixel_6_5',\n",
       "  'pixel_6_6',\n",
       "  'pixel_6_7',\n",
       "  'pixel_7_0',\n",
       "  'pixel_7_1',\n",
       "  'pixel_7_2',\n",
       "  'pixel_7_3',\n",
       "  'pixel_7_4',\n",
       "  'pixel_7_5',\n",
       "  'pixel_7_6',\n",
       "  'pixel_7_7'],\n",
       " 'target_names': array([0, 1, 2, 3, 4, 5, 6, 7, 8, 9]),\n",
       " 'images': array([[[ 0.,  0.,  5., ...,  1.,  0.,  0.],\n",
       "         [ 0.,  0., 13., ..., 15.,  5.,  0.],\n",
       "         [ 0.,  3., 15., ..., 11.,  8.,  0.],\n",
       "         ...,\n",
       "         [ 0.,  4., 11., ..., 12.,  7.,  0.],\n",
       "         [ 0.,  2., 14., ..., 12.,  0.,  0.],\n",
       "         [ 0.,  0.,  6., ...,  0.,  0.,  0.]],\n",
       " \n",
       "        [[ 0.,  0.,  0., ...,  5.,  0.,  0.],\n",
       "         [ 0.,  0.,  0., ...,  9.,  0.,  0.],\n",
       "         [ 0.,  0.,  3., ...,  6.,  0.,  0.],\n",
       "         ...,\n",
       "         [ 0.,  0.,  1., ...,  6.,  0.,  0.],\n",
       "         [ 0.,  0.,  1., ...,  6.,  0.,  0.],\n",
       "         [ 0.,  0.,  0., ..., 10.,  0.,  0.]],\n",
       " \n",
       "        [[ 0.,  0.,  0., ..., 12.,  0.,  0.],\n",
       "         [ 0.,  0.,  3., ..., 14.,  0.,  0.],\n",
       "         [ 0.,  0.,  8., ..., 16.,  0.,  0.],\n",
       "         ...,\n",
       "         [ 0.,  9., 16., ...,  0.,  0.,  0.],\n",
       "         [ 0.,  3., 13., ..., 11.,  5.,  0.],\n",
       "         [ 0.,  0.,  0., ..., 16.,  9.,  0.]],\n",
       " \n",
       "        ...,\n",
       " \n",
       "        [[ 0.,  0.,  1., ...,  1.,  0.,  0.],\n",
       "         [ 0.,  0., 13., ...,  2.,  1.,  0.],\n",
       "         [ 0.,  0., 16., ..., 16.,  5.,  0.],\n",
       "         ...,\n",
       "         [ 0.,  0., 16., ..., 15.,  0.,  0.],\n",
       "         [ 0.,  0., 15., ..., 16.,  0.,  0.],\n",
       "         [ 0.,  0.,  2., ...,  6.,  0.,  0.]],\n",
       " \n",
       "        [[ 0.,  0.,  2., ...,  0.,  0.,  0.],\n",
       "         [ 0.,  0., 14., ..., 15.,  1.,  0.],\n",
       "         [ 0.,  4., 16., ..., 16.,  7.,  0.],\n",
       "         ...,\n",
       "         [ 0.,  0.,  0., ..., 16.,  2.,  0.],\n",
       "         [ 0.,  0.,  4., ..., 16.,  2.,  0.],\n",
       "         [ 0.,  0.,  5., ..., 12.,  0.,  0.]],\n",
       " \n",
       "        [[ 0.,  0., 10., ...,  1.,  0.,  0.],\n",
       "         [ 0.,  2., 16., ...,  1.,  0.,  0.],\n",
       "         [ 0.,  0., 15., ..., 15.,  0.,  0.],\n",
       "         ...,\n",
       "         [ 0.,  4., 16., ..., 16.,  6.,  0.],\n",
       "         [ 0.,  8., 16., ..., 16.,  8.,  0.],\n",
       "         [ 0.,  1.,  8., ..., 12.,  1.,  0.]]]),\n",
       " 'DESCR': \".. _digits_dataset:\\n\\nOptical recognition of handwritten digits dataset\\n--------------------------------------------------\\n\\n**Data Set Characteristics:**\\n\\n:Number of Instances: 1797\\n:Number of Attributes: 64\\n:Attribute Information: 8x8 image of integer pixels in the range 0..16.\\n:Missing Attribute Values: None\\n:Creator: E. Alpaydin (alpaydin '@' boun.edu.tr)\\n:Date: July; 1998\\n\\nThis is a copy of the test set of the UCI ML hand-written digits datasets\\nhttps://archive.ics.uci.edu/ml/datasets/Optical+Recognition+of+Handwritten+Digits\\n\\nThe data set contains images of hand-written digits: 10 classes where\\neach class refers to a digit.\\n\\nPreprocessing programs made available by NIST were used to extract\\nnormalized bitmaps of handwritten digits from a preprinted form. From a\\ntotal of 43 people, 30 contributed to the training set and different 13\\nto the test set. 32x32 bitmaps are divided into nonoverlapping blocks of\\n4x4 and the number of on pixels are counted in each block. This generates\\nan input matrix of 8x8 where each element is an integer in the range\\n0..16. This reduces dimensionality and gives invariance to small\\ndistortions.\\n\\nFor info on NIST preprocessing routines, see M. D. Garris, J. L. Blue, G.\\nT. Candela, D. L. Dimmick, J. Geist, P. J. Grother, S. A. Janet, and C.\\nL. Wilson, NIST Form-Based Handprint Recognition System, NISTIR 5469,\\n1994.\\n\\n|details-start|\\n**References**\\n|details-split|\\n\\n- C. Kaynak (1995) Methods of Combining Multiple Classifiers and Their\\n  Applications to Handwritten Digit Recognition, MSc Thesis, Institute of\\n  Graduate Studies in Science and Engineering, Bogazici University.\\n- E. Alpaydin, C. Kaynak (1998) Cascading Classifiers, Kybernetika.\\n- Ken Tang and Ponnuthurai N. Suganthan and Xi Yao and A. Kai Qin.\\n  Linear dimensionalityreduction using relevance weighted LDA. School of\\n  Electrical and Electronic Engineering Nanyang Technological University.\\n  2005.\\n- Claudio Gentile. A New Approximate Maximal Margin Classification\\n  Algorithm. NIPS. 2000.\\n\\n|details-end|\\n\"}"
      ]
     },
     "execution_count": 39,
     "metadata": {},
     "output_type": "execute_result"
    }
   ],
   "source": [
    "mnist\n"
   ]
  },
  {
   "cell_type": "code",
   "execution_count": 34,
   "metadata": {},
   "outputs": [
    {
     "data": {
      "text/plain": [
       "b'\\x80\\x04\\x95\\x86\\x02\\x00\\x00\\x00\\x00\\x00\\x00}\\x94(\\x8c\\x06sample\\x94]\\x94(G\\x00\\x00\\x00\\x00\\x00\\x00\\x00\\x00G\\x00\\x00\\x00\\x00\\x00\\x00\\x00\\x00G\\x00\\x00\\x00\\x00\\x00\\x00\\x00\\x00G@\\x1c\\x00\\x00\\x00\\x00\\x00\\x00G@(\\x00\\x00\\x00\\x00\\x00\\x00G\\x00\\x00\\x00\\x00\\x00\\x00\\x00\\x00G\\x00\\x00\\x00\\x00\\x00\\x00\\x00\\x00G\\x00\\x00\\x00\\x00\\x00\\x00\\x00\\x00G\\x00\\x00\\x00\\x00\\x00\\x00\\x00\\x00G\\x00\\x00\\x00\\x00\\x00\\x00\\x00\\x00G@\\x10\\x00\\x00\\x00\\x00\\x00\\x00G@0\\x00\\x00\\x00\\x00\\x00\\x00G@ \\x00\\x00\\x00\\x00\\x00\\x00G\\x00\\x00\\x00\\x00\\x00\\x00\\x00\\x00G\\x00\\x00\\x00\\x00\\x00\\x00\\x00\\x00G\\x00\\x00\\x00\\x00\\x00\\x00\\x00\\x00G\\x00\\x00\\x00\\x00\\x00\\x00\\x00\\x00G\\x00\\x00\\x00\\x00\\x00\\x00\\x00\\x00G@(\\x00\\x00\\x00\\x00\\x00\\x00G@&\\x00\\x00\\x00\\x00\\x00\\x00G\\x00\\x00\\x00\\x00\\x00\\x00\\x00\\x00G\\x00\\x00\\x00\\x00\\x00\\x00\\x00\\x00G\\x00\\x00\\x00\\x00\\x00\\x00\\x00\\x00G\\x00\\x00\\x00\\x00\\x00\\x00\\x00\\x00G\\x00\\x00\\x00\\x00\\x00\\x00\\x00\\x00G\\x00\\x00\\x00\\x00\\x00\\x00\\x00\\x00G@.\\x00\\x00\\x00\\x00\\x00\\x00G@$\\x00\\x00\\x00\\x00\\x00\\x00G@ \\x00\\x00\\x00\\x00\\x00\\x00G@\\x18\\x00\\x00\\x00\\x00\\x00\\x00G?\\xf0\\x00\\x00\\x00\\x00\\x00\\x00G\\x00\\x00\\x00\\x00\\x00\\x00\\x00\\x00G\\x00\\x00\\x00\\x00\\x00\\x00\\x00\\x00G\\x00\\x00\\x00\\x00\\x00\\x00\\x00\\x00G@.\\x00\\x00\\x00\\x00\\x00\\x00G@0\\x00\\x00\\x00\\x00\\x00\\x00G@ \\x00\\x00\\x00\\x00\\x00\\x00G@$\\x00\\x00\\x00\\x00\\x00\\x00G@ \\x00\\x00\\x00\\x00\\x00\\x00G\\x00\\x00\\x00\\x00\\x00\\x00\\x00\\x00G\\x00\\x00\\x00\\x00\\x00\\x00\\x00\\x00G\\x00\\x00\\x00\\x00\\x00\\x00\\x00\\x00G@,\\x00\\x00\\x00\\x00\\x00\\x00G@\\x1c\\x00\\x00\\x00\\x00\\x00\\x00G\\x00\\x00\\x00\\x00\\x00\\x00\\x00\\x00G\\x00\\x00\\x00\\x00\\x00\\x00\\x00\\x00G@(\\x00\\x00\\x00\\x00\\x00\\x00G\\x00\\x00\\x00\\x00\\x00\\x00\\x00\\x00G\\x00\\x00\\x00\\x00\\x00\\x00\\x00\\x00G\\x00\\x00\\x00\\x00\\x00\\x00\\x00\\x00G@ \\x00\\x00\\x00\\x00\\x00\\x00G@&\\x00\\x00\\x00\\x00\\x00\\x00G\\x00\\x00\\x00\\x00\\x00\\x00\\x00\\x00G@\\x14\\x00\\x00\\x00\\x00\\x00\\x00G@0\\x00\\x00\\x00\\x00\\x00\\x00G@\\x00\\x00\\x00\\x00\\x00\\x00\\x00G\\x00\\x00\\x00\\x00\\x00\\x00\\x00\\x00G\\x00\\x00\\x00\\x00\\x00\\x00\\x00\\x00G\\x00\\x00\\x00\\x00\\x00\\x00\\x00\\x00G@\"\\x00\\x00\\x00\\x00\\x00\\x00G@,\\x00\\x00\\x00\\x00\\x00\\x00G@,\\x00\\x00\\x00\\x00\\x00\\x00G@\\x14\\x00\\x00\\x00\\x00\\x00\\x00G\\x00\\x00\\x00\\x00\\x00\\x00\\x00\\x00e\\x8c\\nrequest_id\\x94\\x8c$df47e6d1-34cd-4545-bf21-5a843d70beb9\\x94u.'"
      ]
     },
     "execution_count": 34,
     "metadata": {},
     "output_type": "execute_result"
    }
   ],
   "source": [
    "x"
   ]
  },
  {
   "cell_type": "code",
   "execution_count": 231,
   "metadata": {},
   "outputs": [],
   "source": [
    "node_3.tamper_data()"
   ]
  },
  {
   "cell_type": "code",
   "execution_count": null,
   "metadata": {},
   "outputs": [],
   "source": [
    "node_3.de_tamper_data()"
   ]
  },
  {
   "cell_type": "code",
   "execution_count": 233,
   "metadata": {},
   "outputs": [],
   "source": [
    "node_3_m.tamper_data()"
   ]
  },
  {
   "cell_type": "code",
   "execution_count": null,
   "metadata": {},
   "outputs": [],
   "source": [
    "node_3_m.de_tamper_data()"
   ]
  },
  {
   "cell_type": "code",
   "execution_count": 235,
   "metadata": {},
   "outputs": [],
   "source": [
    "node_3_c.tamper_data()"
   ]
  },
  {
   "cell_type": "code",
   "execution_count": 236,
   "metadata": {},
   "outputs": [],
   "source": [
    "node_3_c.de_tamper_data()"
   ]
  },
  {
   "cell_type": "code",
   "execution_count": 264,
   "metadata": {},
   "outputs": [
    {
     "data": {
      "text/plain": [
       "479"
      ]
     },
     "execution_count": 264,
     "metadata": {},
     "output_type": "execute_result"
    }
   ],
   "source": [
    "len(X_train_split[0])"
   ]
  },
  {
   "cell_type": "code",
   "execution_count": 269,
   "metadata": {},
   "outputs": [
    {
     "data": {
      "text/plain": [
       "array([ 0.,  0.,  0.,  7., 12.,  0.,  0.,  0.,  0.,  0.,  4., 16.,  8.,\n",
       "        0.,  0.,  0.,  0.,  0., 12., 11.,  0.,  0.,  0.,  0.,  0.,  0.,\n",
       "       15., 10.,  8.,  6.,  1.,  0.,  0.,  0., 15., 16.,  8., 10.,  8.,\n",
       "        0.,  0.,  0., 14.,  7.,  0.,  0., 12.,  0.,  0.,  0.,  8., 11.,\n",
       "        0.,  5., 16.,  2.,  0.,  0.,  0.,  9., 14., 14.,  5.,  0.])"
      ]
     },
     "execution_count": 269,
     "metadata": {},
     "output_type": "execute_result"
    }
   ],
   "source": [
    "X_test[0]"
   ]
  },
  {
   "cell_type": "code",
   "execution_count": 267,
   "metadata": {},
   "outputs": [
    {
     "data": {
      "text/plain": [
       "array([ 0.,  0., 10., 12., 12., 15.,  4.,  0.,  0.,  0., 16.,  8.,  8.,\n",
       "        5.,  3.,  0.,  0.,  4., 15.,  8.,  6.,  0.,  0.,  0.,  0.,  6.,\n",
       "       15., 12., 14.,  8.,  0.,  0.,  0.,  0.,  1.,  0.,  2., 16.,  0.,\n",
       "        0.,  0.,  0.,  0.,  0.,  0., 14.,  3.,  0.,  0.,  0., 11.,  4.,\n",
       "        8., 15.,  3.,  0.,  0.,  0., 10., 16., 15.,  5.,  0.,  0.])"
      ]
     },
     "execution_count": 267,
     "metadata": {},
     "output_type": "execute_result"
    }
   ],
   "source": [
    "# Get values that you need you have till index 359\n",
    "X_test[200]"
   ]
  }
 ],
 "metadata": {
  "kernelspec": {
   "display_name": "Python 3",
   "language": "python",
   "name": "python3"
  },
  "language_info": {
   "codemirror_mode": {
    "name": "ipython",
    "version": 3
   },
   "file_extension": ".py",
   "mimetype": "text/x-python",
   "name": "python",
   "nbconvert_exporter": "python",
   "pygments_lexer": "ipython3",
   "version": "3.12.3"
  }
 },
 "nbformat": 4,
 "nbformat_minor": 2
}
