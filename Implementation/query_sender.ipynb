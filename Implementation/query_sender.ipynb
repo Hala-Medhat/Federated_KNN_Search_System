{
 "cells": [
  {
   "cell_type": "code",
   "execution_count": 112,
   "metadata": {},
   "outputs": [],
   "source": [
    "\n",
    "\n",
    "import redis\n",
    "import pickle\n",
    "import uuid\n",
    "import time\n",
    "import threading\n",
    "import numpy as np\n",
    "\n",
    "\n",
    "class KNNQuerySender:\n",
    "    def __init__(self):\n",
    "        self.redis_client = redis.StrictRedis(host='localhost', port=6379, db=0, password='secret_key')\n",
    "        self.query_channel = 'knn_query_channel'\n",
    "        self.response_channel = 'knn_query_response_channel'\n",
    "        self.responses = {}\n",
    "        self._listen_thread = threading.Thread(target=self.listen_for_responses)\n",
    "        self._listen_thread.start()\n",
    "\n",
    "    def send_query(self, sample, distance, voting_method):\n",
    "        request_id = str(uuid.uuid4())\n",
    "        query_data = {\n",
    "            'sample': sample,\n",
    "            'distance': distance,\n",
    "            'voting_method': voting_method,\n",
    "            'request_id': request_id\n",
    "        }\n",
    "        self.redis_client.publish(self.query_channel, pickle.dumps(query_data))\n",
    "        return request_id\n",
    "\n",
    "    def listen_for_responses(self):\n",
    "        pubsub = self.redis_client.pubsub()\n",
    "        pubsub.subscribe(self.response_channel)\n",
    "        for message in pubsub.listen():\n",
    "            if message['type'] == 'message':\n",
    "                response_data = pickle.loads(message['data'])\n",
    "                request_id = response_data['request_id']\n",
    "                result = response_data['result']\n",
    "                self.responses[request_id] = result\n",
    "\n",
    "    def get_response(self, request_id):\n",
    "        while request_id not in self.responses:\n",
    "            time.sleep(0.1)  # Sleep briefly to avoid busy-waiting\n",
    "        return self.responses.pop(request_id)\n",
    "\n",
    "def test(distance ,voting_method ):\n",
    "    \n",
    "    predictions = []\n",
    "    for sample in X_test:\n",
    "        request_id = query_sender.send_query(sample, distance, voting_method)\n",
    "        final_prediction = query_sender.get_response(request_id)\n",
    "        predictions.append(final_prediction)\n",
    "\n",
    "    accuracy = sum(np.array(predictions) == y_test) / len(y_test)\n",
    "    print(f'Accuracy for distance {distance} and voting method {voting_method}: {accuracy*100}')\n",
    "    \n",
    "    \n",
    "query_sender = KNNQuerySender()\n",
    "\n",
    "X_test = np.load('X_test.npy')\n",
    "y_test = np.load('y_test.npy')\n"
   ]
  },
  {
   "cell_type": "code",
   "execution_count": 49,
   "metadata": {},
   "outputs": [
    {
     "data": {
      "text/plain": [
       "(360, 64)"
      ]
     },
     "execution_count": 49,
     "metadata": {},
     "output_type": "execute_result"
    }
   ],
   "source": [
    "X_test.shape"
   ]
  },
  {
   "cell_type": "code",
   "execution_count": 50,
   "metadata": {},
   "outputs": [
    {
     "name": "stdout",
     "output_type": "stream",
     "text": [
      "Accuracy: 98.33333333333333\n"
     ]
    }
   ],
   "source": [
    "test(distance = 'euclidean',voting_method = 'weighted_voting')"
   ]
  },
  {
   "cell_type": "code",
   "execution_count": 51,
   "metadata": {},
   "outputs": [
    {
     "name": "stdout",
     "output_type": "stream",
     "text": [
      "Accuracy: 98.88888888888889\n"
     ]
    }
   ],
   "source": [
    "test(distance = 'cosine',voting_method = 'weighted_voting')"
   ]
  },
  {
   "cell_type": "code",
   "execution_count": 60,
   "metadata": {},
   "outputs": [
    {
     "name": "stdout",
     "output_type": "stream",
     "text": [
      "Accuracy: 97.77777777777777\n"
     ]
    }
   ],
   "source": [
    "test(distance = 'manhattan',voting_method = 'weighted_voting')"
   ]
  },
  {
   "cell_type": "code",
   "execution_count": 53,
   "metadata": {},
   "outputs": [
    {
     "name": "stdout",
     "output_type": "stream",
     "text": [
      "Accuracy: 98.33333333333333\n"
     ]
    }
   ],
   "source": [
    "test(distance = 'euclidean',voting_method = 'majority_voting')"
   ]
  },
  {
   "cell_type": "code",
   "execution_count": 54,
   "metadata": {},
   "outputs": [
    {
     "name": "stdout",
     "output_type": "stream",
     "text": [
      "Accuracy: 98.88888888888889\n"
     ]
    }
   ],
   "source": [
    "test(distance = 'cosine',voting_method = 'majority_voting')"
   ]
  },
  {
   "cell_type": "code",
   "execution_count": 57,
   "metadata": {},
   "outputs": [
    {
     "name": "stdout",
     "output_type": "stream",
     "text": [
      "Accuracy: 98.33333333333333\n"
     ]
    }
   ],
   "source": [
    "test(distance = 'euclidean',voting_method = 'distance_based_aggregation')"
   ]
  },
  {
   "cell_type": "code",
   "execution_count": 58,
   "metadata": {},
   "outputs": [
    {
     "name": "stdout",
     "output_type": "stream",
     "text": [
      "Accuracy: 98.88888888888889\n"
     ]
    }
   ],
   "source": [
    "test(distance = 'cosine',voting_method = 'distance_based_aggregation')"
   ]
  },
  {
   "cell_type": "code",
   "execution_count": 59,
   "metadata": {},
   "outputs": [
    {
     "name": "stdout",
     "output_type": "stream",
     "text": [
      "Accuracy: 97.77777777777777\n"
     ]
    }
   ],
   "source": [
    "test(distance = 'manhattan',voting_method = 'distance_based_aggregation')"
   ]
  },
  {
   "cell_type": "code",
   "execution_count": 80,
   "metadata": {},
   "outputs": [
    {
     "name": "stdout",
     "output_type": "stream",
     "text": [
      "Accuracy: 97.5\n"
     ]
    }
   ],
   "source": [
    "# With tampering and no defense aganist tampering\n",
    "test(distance = 'cosine',voting_method = 'distance_based_aggregation')"
   ]
  },
  {
   "cell_type": "code",
   "execution_count": 81,
   "metadata": {},
   "outputs": [
    {
     "name": "stdout",
     "output_type": "stream",
     "text": [
      "Accuracy: 98.05555555555556\n"
     ]
    }
   ],
   "source": [
    "test(distance = 'cosine',voting_method = 'majority_voting')"
   ]
  },
  {
   "cell_type": "code",
   "execution_count": null,
   "metadata": {},
   "outputs": [],
   "source": [
    "test(distance = 'cosine',voting_method = 'majority_voting')"
   ]
  },
  {
   "cell_type": "code",
   "execution_count": 92,
   "metadata": {},
   "outputs": [
    {
     "name": "stdout",
     "output_type": "stream",
     "text": [
      "Accuracy for distance cosine and voting method min_distance: 98.33333333333333\n"
     ]
    }
   ],
   "source": [
    "test(distance = 'cosine',voting_method = 'min_distance')"
   ]
  },
  {
   "cell_type": "code",
   "execution_count": 100,
   "metadata": {},
   "outputs": [],
   "source": [
    "distances = ['cosine' ,'manhattan','euclidean']\n",
    "voting_methods = ['distance_based_aggregation','majority_voting','weighted_voting','min_distance']"
   ]
  },
  {
   "cell_type": "code",
   "execution_count": 85,
   "metadata": {},
   "outputs": [
    {
     "name": "stdout",
     "output_type": "stream",
     "text": [
      "Accuracy for distance cosine and voting method distance_based_aggregation: 97.5\n",
      "Accuracy for distance cosine and voting method majority_voting: 98.05555555555556\n",
      "Accuracy for distance cosine and voting method weighted_voting: 98.33333333333333\n",
      "Accuracy for distance cosine and voting method min_distance: 91.38888888888889\n",
      "Accuracy for distance manhattan and voting method distance_based_aggregation: 97.22222222222221\n",
      "Accuracy for distance manhattan and voting method majority_voting: 97.77777777777777\n",
      "Accuracy for distance manhattan and voting method weighted_voting: 97.5\n",
      "Accuracy for distance manhattan and voting method min_distance: 90.0\n",
      "Accuracy for distance euclidean and voting method distance_based_aggregation: 97.77777777777777\n",
      "Accuracy for distance euclidean and voting method majority_voting: 98.33333333333333\n",
      "Accuracy for distance euclidean and voting method weighted_voting: 98.05555555555556\n",
      "Accuracy for distance euclidean and voting method min_distance: 91.11111111111111\n"
     ]
    }
   ],
   "source": [
    "# With Tampering\n",
    "for distance in distances:\n",
    "    for voting_method in voting_methods:\n",
    "        test(distance = distance,voting_method = voting_method)"
   ]
  },
  {
   "cell_type": "code",
   "execution_count": 90,
   "metadata": {},
   "outputs": [
    {
     "name": "stdout",
     "output_type": "stream",
     "text": [
      "Accuracy for distance cosine and voting method distance_based_aggregation: 96.94444444444444\n",
      "Accuracy for distance cosine and voting method majority_voting: 97.5\n",
      "Accuracy for distance cosine and voting method weighted_voting: 98.05555555555556\n",
      "Accuracy for distance cosine and voting method min_distance: 97.22222222222221\n",
      "Accuracy for distance manhattan and voting method distance_based_aggregation: 96.11111111111111\n",
      "Accuracy for distance manhattan and voting method majority_voting: 96.38888888888889\n",
      "Accuracy for distance manhattan and voting method weighted_voting: 96.66666666666667\n",
      "Accuracy for distance manhattan and voting method min_distance: 96.66666666666667\n",
      "Accuracy for distance euclidean and voting method distance_based_aggregation: 97.22222222222221\n",
      "Accuracy for distance euclidean and voting method majority_voting: 97.5\n",
      "Accuracy for distance euclidean and voting method weighted_voting: 97.5\n",
      "Accuracy for distance euclidean and voting method min_distance: 96.94444444444444\n"
     ]
    }
   ],
   "source": [
    "# With Tampering and mitigation applied\n",
    "for distance in distances:\n",
    "    for voting_method in voting_methods:\n",
    "        test(distance = distance,voting_method = voting_method)"
   ]
  },
  {
   "cell_type": "code",
   "execution_count": 13,
   "metadata": {},
   "outputs": [
    {
     "name": "stdout",
     "output_type": "stream",
     "text": [
      "62b8a3fa-c81b-4e0e-aef8-5259b0561fe7\n",
      "Result for request 62b8a3fa-c81b-4e0e-aef8-5259b0561fe7: 6\n"
     ]
    }
   ],
   "source": [
    "# With tampering and rate limiting applied, it was executed immediately\n",
    "sample = [ 0.,  0.,  0.,  7., 12.,  0.,  0.,  0.,  0.,  0.,  4., 16.,  8.,\n",
    "        0.,  0.,  0.,  0.,  0., 12., 11.,  0.,  0.,  0.,  0.,  0.,  0.,\n",
    "       15., 10.,  8.,  6.,  1.,  0.,  0.,  0., 15., 16.,  8., 10.,  8.,\n",
    "        0.,  0.,  0., 14.,  7.,  0.,  0., 12.,  0.,  0.,  0.,  8., 11.,\n",
    "        0.,  5., 16.,  2.,  0.,  0.,  0.,  9., 14., 14.,  5.,  0.]\n",
    "distance = 'cosine'\n",
    "voting_method = 'majority_voting'\n",
    "request_id = query_sender.send_query(sample, distance, voting_method)\n",
    "print(request_id)\n",
    "result = query_sender.get_response(request_id)\n",
    "print(f\"Result for request {request_id}: {result}\")"
   ]
  },
  {
   "cell_type": "code",
   "execution_count": 164,
   "metadata": {},
   "outputs": [
    {
     "name": "stdout",
     "output_type": "stream",
     "text": [
      "d988f3c7-1748-4fc0-a50a-1d0f37b84ce2\n",
      "Result for request d988f3c7-1748-4fc0-a50a-1d0f37b84ce2: 6\n"
     ]
    }
   ],
   "source": [
    "# With no rate limiting applied , it waas executed in 18 minutes\n",
    "sample = [ 0.,  0.,  0.,  7., 12.,  0.,  0.,  0.,  0.,  0.,  4., 16.,  8.,\n",
    "        0.,  0.,  0.,  0.,  0., 12., 11.,  0.,  0.,  0.,  0.,  0.,  0.,\n",
    "       15., 10.,  8.,  6.,  1.,  0.,  0.,  0., 15., 16.,  8., 10.,  8.,\n",
    "        0.,  0.,  0., 14.,  7.,  0.,  0., 12.,  0.,  0.,  0.,  8., 11.,\n",
    "        0.,  5., 16.,  2.,  0.,  0.,  0.,  9., 14., 14.,  5.,  0.]\n",
    "distance = 'cosine'\n",
    "voting_method = 'majority_voting'\n",
    "request_id = query_sender.send_query(sample, distance, voting_method)\n",
    "print(request_id)\n",
    "result = query_sender.get_response(request_id)\n",
    "print(f\"Result for request {request_id}: {result}\")"
   ]
  },
  {
   "cell_type": "code",
   "execution_count": 113,
   "metadata": {},
   "outputs": [
    {
     "name": "stdout",
     "output_type": "stream",
     "text": [
      "Result for request with distance cosine and voting method distance_based_aggregation is : 8\n",
      "Result for request with distance cosine and voting method majority_voting is : 6\n",
      "Result for request with distance cosine and voting method weighted_voting is : 6\n",
      "Result for request with distance cosine and voting method min_distance is : 8\n",
      "Result for request with distance manhattan and voting method distance_based_aggregation is : 8\n",
      "Result for request with distance manhattan and voting method majority_voting is : 6\n",
      "Result for request with distance manhattan and voting method weighted_voting is : 6\n",
      "Result for request with distance manhattan and voting method min_distance is : 8\n",
      "Result for request with distance euclidean and voting method distance_based_aggregation is : 8\n",
      "Result for request with distance euclidean and voting method majority_voting is : 6\n",
      "Result for request with distance euclidean and voting method weighted_voting is : 6\n",
      "Result for request with distance euclidean and voting method min_distance is : 8\n"
     ]
    }
   ],
   "source": [
    "distances = ['cosine' ,'manhattan','euclidean']\n",
    "voting_methods = ['distance_based_aggregation','majority_voting','weighted_voting','min_distance']\n",
    "# Spoofing is up\n",
    "# With Tampering\n",
    "# expected = 6\n",
    "sample = [ 0.,  0.,  0.,  7., 12.,  0.,  0.,  0.,  0.,  0.,  4., 16.,  8.,\n",
    "        0.,  0.,  0.,  0.,  0., 12., 11.,  0.,  0.,  0.,  0.,  0.,  0.,\n",
    "       15., 10.,  8.,  6.,  1.,  0.,  0.,  0., 15., 16.,  8., 10.,  8.,\n",
    "        0.,  0.,  0., 14.,  7.,  0.,  0., 12.,  0.,  0.,  0.,  8., 11.,\n",
    "        0.,  5., 16.,  2.,  0.,  0.,  0.,  9., 14., 14.,  5.,  0.]\n",
    "for distance in distances:\n",
    "    for voting_method in voting_methods:\n",
    "        request_id = query_sender.send_query(sample, distance, voting_method)\n",
    "       \n",
    "        result = query_sender.get_response(request_id)\n",
    "        print(f'Result for request with distance {distance} and voting method {voting_method} is : {result}')\n",
    "\n"
   ]
  },
  {
   "cell_type": "markdown",
   "metadata": {},
   "source": [
    "Here we simulated a spoofing node that upon receving req, send a prediction for class 8 and of distances =0 thats why distnace_based_aggregation and min_distance were affected"
   ]
  },
  {
   "cell_type": "code",
   "execution_count": 115,
   "metadata": {},
   "outputs": [
    {
     "name": "stdout",
     "output_type": "stream",
     "text": [
      "Result for request with distance cosine and voting method distance_based_aggregation is : 6\n",
      "Result for request with distance cosine and voting method majority_voting is : 6\n",
      "Result for request with distance cosine and voting method weighted_voting is : 6\n",
      "Result for request with distance cosine and voting method min_distance is : 6\n",
      "Result for request with distance manhattan and voting method distance_based_aggregation is : 6\n",
      "Result for request with distance manhattan and voting method majority_voting is : 6\n",
      "Result for request with distance manhattan and voting method weighted_voting is : 6\n",
      "Result for request with distance manhattan and voting method min_distance is : 6\n",
      "Result for request with distance euclidean and voting method distance_based_aggregation is : 6\n",
      "Result for request with distance euclidean and voting method majority_voting is : 6\n",
      "Result for request with distance euclidean and voting method weighted_voting is : 6\n",
      "Result for request with distance euclidean and voting method min_distance is : 6\n"
     ]
    }
   ],
   "source": [
    "distances = ['cosine' ,'manhattan','euclidean']\n",
    "voting_methods = ['distance_based_aggregation','majority_voting','weighted_voting','min_distance']\n",
    "# test here \n",
    "# expected = 6\n",
    "sample = [ 0.,  0.,  0.,  7., 12.,  0.,  0.,  0.,  0.,  0.,  4., 16.,  8.,\n",
    "        0.,  0.,  0.,  0.,  0., 12., 11.,  0.,  0.,  0.,  0.,  0.,  0.,\n",
    "       15., 10.,  8.,  6.,  1.,  0.,  0.,  0., 15., 16.,  8., 10.,  8.,\n",
    "        0.,  0.,  0., 14.,  7.,  0.,  0., 12.,  0.,  0.,  0.,  8., 11.,\n",
    "        0.,  5., 16.,  2.,  0.,  0.,  0.,  9., 14., 14.,  5.,  0.]\n",
    "for distance in distances:\n",
    "    for voting_method in voting_methods:\n",
    "        request_id = query_sender.send_query(sample, distance, voting_method)\n",
    "       \n",
    "        result = query_sender.get_response(request_id)\n",
    "        print(f'Result for request with distance {distance} and voting method {voting_method} is : {result}')\n",
    "\n"
   ]
  },
  {
   "cell_type": "code",
   "execution_count": 114,
   "metadata": {},
   "outputs": [
    {
     "data": {
      "text/plain": [
       "array([ 0.,  0.,  8., 12., 16., 16.,  9.,  0.,  0.,  4., 16., 16., 13.,\n",
       "        9.,  2.,  0.,  0., 11., 14.,  4.,  0.,  0.,  0.,  0.,  0.,  7.,\n",
       "       15., 10.,  1.,  0.,  0.,  0.,  0.,  0., 12., 16., 13.,  1.,  0.,\n",
       "        0.,  0.,  0.,  0.,  4., 16.,  4.,  0.,  0.,  0.,  0.,  5., 10.,\n",
       "       16.,  3.,  0.,  0.,  0.,  0.,  9., 16., 10.,  0.,  0.,  0.])"
      ]
     },
     "execution_count": 114,
     "metadata": {},
     "output_type": "execute_result"
    }
   ],
   "source": [
    "X_test[6]"
   ]
  }
 ],
 "metadata": {
  "kernelspec": {
   "display_name": "Python 3",
   "language": "python",
   "name": "python3"
  },
  "language_info": {
   "codemirror_mode": {
    "name": "ipython",
    "version": 3
   },
   "file_extension": ".py",
   "mimetype": "text/x-python",
   "name": "python",
   "nbconvert_exporter": "python",
   "pygments_lexer": "ipython3",
   "version": "3.12.3"
  }
 },
 "nbformat": 4,
 "nbformat_minor": 2
}
