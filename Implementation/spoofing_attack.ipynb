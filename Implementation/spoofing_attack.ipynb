{
 "cells": [
  {
   "cell_type": "code",
   "execution_count": 2,
   "metadata": {},
   "outputs": [],
   "source": [
    "import redis\n",
    "import pickle\n",
    "from collections import defaultdict\n",
    "import threading\n",
    "import time\n",
    "import numpy as np"
   ]
  },
  {
   "cell_type": "code",
   "execution_count": 28,
   "metadata": {},
   "outputs": [
    {
     "name": "stdout",
     "output_type": "stream",
     "text": [
      "hena\n",
      "b'\\x80\\x04\\x95\\x86\\x02\\x00\\x00\\x00\\x00\\x00\\x00}\\x94(\\x8c\\x06sample\\x94]\\x94(G\\x00\\x00\\x00\\x00\\x00\\x00\\x00\\x00G\\x00\\x00\\x00\\x00\\x00\\x00\\x00\\x00G\\x00\\x00\\x00\\x00\\x00\\x00\\x00\\x00G@\\x1c\\x00\\x00\\x00\\x00\\x00\\x00G@(\\x00\\x00\\x00\\x00\\x00\\x00G\\x00\\x00\\x00\\x00\\x00\\x00\\x00\\x00G\\x00\\x00\\x00\\x00\\x00\\x00\\x00\\x00G\\x00\\x00\\x00\\x00\\x00\\x00\\x00\\x00G\\x00\\x00\\x00\\x00\\x00\\x00\\x00\\x00G\\x00\\x00\\x00\\x00\\x00\\x00\\x00\\x00G@\\x10\\x00\\x00\\x00\\x00\\x00\\x00G@0\\x00\\x00\\x00\\x00\\x00\\x00G@ \\x00\\x00\\x00\\x00\\x00\\x00G\\x00\\x00\\x00\\x00\\x00\\x00\\x00\\x00G\\x00\\x00\\x00\\x00\\x00\\x00\\x00\\x00G\\x00\\x00\\x00\\x00\\x00\\x00\\x00\\x00G\\x00\\x00\\x00\\x00\\x00\\x00\\x00\\x00G\\x00\\x00\\x00\\x00\\x00\\x00\\x00\\x00G@(\\x00\\x00\\x00\\x00\\x00\\x00G@&\\x00\\x00\\x00\\x00\\x00\\x00G\\x00\\x00\\x00\\x00\\x00\\x00\\x00\\x00G\\x00\\x00\\x00\\x00\\x00\\x00\\x00\\x00G\\x00\\x00\\x00\\x00\\x00\\x00\\x00\\x00G\\x00\\x00\\x00\\x00\\x00\\x00\\x00\\x00G\\x00\\x00\\x00\\x00\\x00\\x00\\x00\\x00G\\x00\\x00\\x00\\x00\\x00\\x00\\x00\\x00G@.\\x00\\x00\\x00\\x00\\x00\\x00G@$\\x00\\x00\\x00\\x00\\x00\\x00G@ \\x00\\x00\\x00\\x00\\x00\\x00G@\\x18\\x00\\x00\\x00\\x00\\x00\\x00G?\\xf0\\x00\\x00\\x00\\x00\\x00\\x00G\\x00\\x00\\x00\\x00\\x00\\x00\\x00\\x00G\\x00\\x00\\x00\\x00\\x00\\x00\\x00\\x00G\\x00\\x00\\x00\\x00\\x00\\x00\\x00\\x00G@.\\x00\\x00\\x00\\x00\\x00\\x00G@0\\x00\\x00\\x00\\x00\\x00\\x00G@ \\x00\\x00\\x00\\x00\\x00\\x00G@$\\x00\\x00\\x00\\x00\\x00\\x00G@ \\x00\\x00\\x00\\x00\\x00\\x00G\\x00\\x00\\x00\\x00\\x00\\x00\\x00\\x00G\\x00\\x00\\x00\\x00\\x00\\x00\\x00\\x00G\\x00\\x00\\x00\\x00\\x00\\x00\\x00\\x00G@,\\x00\\x00\\x00\\x00\\x00\\x00G@\\x1c\\x00\\x00\\x00\\x00\\x00\\x00G\\x00\\x00\\x00\\x00\\x00\\x00\\x00\\x00G\\x00\\x00\\x00\\x00\\x00\\x00\\x00\\x00G@(\\x00\\x00\\x00\\x00\\x00\\x00G\\x00\\x00\\x00\\x00\\x00\\x00\\x00\\x00G\\x00\\x00\\x00\\x00\\x00\\x00\\x00\\x00G\\x00\\x00\\x00\\x00\\x00\\x00\\x00\\x00G@ \\x00\\x00\\x00\\x00\\x00\\x00G@&\\x00\\x00\\x00\\x00\\x00\\x00G\\x00\\x00\\x00\\x00\\x00\\x00\\x00\\x00G@\\x14\\x00\\x00\\x00\\x00\\x00\\x00G@0\\x00\\x00\\x00\\x00\\x00\\x00G@\\x00\\x00\\x00\\x00\\x00\\x00\\x00G\\x00\\x00\\x00\\x00\\x00\\x00\\x00\\x00G\\x00\\x00\\x00\\x00\\x00\\x00\\x00\\x00G\\x00\\x00\\x00\\x00\\x00\\x00\\x00\\x00G@\"\\x00\\x00\\x00\\x00\\x00\\x00G@,\\x00\\x00\\x00\\x00\\x00\\x00G@,\\x00\\x00\\x00\\x00\\x00\\x00G@\\x14\\x00\\x00\\x00\\x00\\x00\\x00G\\x00\\x00\\x00\\x00\\x00\\x00\\x00\\x00e\\x8c\\nrequest_id\\x94\\x8c$156153bd-9568-4074-9e65-69c7ce211079\\x94u.'\n",
      "request data is {'sample': [0.0, 0.0, 0.0, 7.0, 12.0, 0.0, 0.0, 0.0, 0.0, 0.0, 4.0, 16.0, 8.0, 0.0, 0.0, 0.0, 0.0, 0.0, 12.0, 11.0, 0.0, 0.0, 0.0, 0.0, 0.0, 0.0, 15.0, 10.0, 8.0, 6.0, 1.0, 0.0, 0.0, 0.0, 15.0, 16.0, 8.0, 10.0, 8.0, 0.0, 0.0, 0.0, 14.0, 7.0, 0.0, 0.0, 12.0, 0.0, 0.0, 0.0, 8.0, 11.0, 0.0, 5.0, 16.0, 2.0, 0.0, 0.0, 0.0, 9.0, 14.0, 14.0, 5.0, 0.0], 'request_id': '156153bd-9568-4074-9e65-69c7ce211079'}\n"
     ]
    }
   ],
   "source": [
    "class SpoofingNode:\n",
    "    def __init__(self, node_id, fake_node_id, redis_host='localhost', redis_port=6379,):\n",
    "        self.node_id = node_id\n",
    "        self.fake_node_id = fake_node_id\n",
    "        self.redis_client = redis.StrictRedis(host=redis_host, port=redis_port, db=0, password='secret_key')\n",
    "        self.subscribe_channel1 = f'knn_euclidean_request_channel_{self.fake_node_id}'\n",
    "        self.subscribe_channel2 = f'knn_cosine_request_channel_{self.fake_node_id}'\n",
    "        self.subscribe_channel3 = f'knn_manhattan_request_channel_{self.fake_node_id}'\n",
    "        self.publish_channel = 'knn_response_channel'\n",
    "        self._listen_thread = threading.Thread(target=self.listen_for_requests)\n",
    "        self._listen_thread.start()\n",
    "\n",
    "    def listen_for_requests(self):\n",
    "        pubsub = self.redis_client.pubsub()\n",
    "        pubsub.subscribe(self.subscribe_channel1)\n",
    "        pubsub.subscribe(self.subscribe_channel3)\n",
    "        pubsub.subscribe(self.subscribe_channel2)\n",
    "        print('hena')\n",
    "        for message in pubsub.listen():\n",
    "            \n",
    "            try:\n",
    "                if message['type'] == 'message':  \n",
    "                    print(message['data'])            \n",
    "                    request_data = pickle.loads(message['data'])\n",
    "                    print(f'request data is {request_data}')\n",
    "                    self.process_request(request_data\n",
    "                    )\n",
    "            except Exception:\n",
    "                print(\"Can't unpickle data\")\n",
    "              \n",
    "    def process_request(self,data):\n",
    "        # Generate a fake prediction\n",
    "        fake_prediction = [np.random.randint(0, 8) for _ in range(3)]  # Assuming 3 classes in the dataset\n",
    "        fake_distances = [np.random.random() for _ in range(3)]\n",
    "        response_data = {\n",
    "            'node_id': self.fake_node_id,\n",
    "            'prediction': fake_prediction,\n",
    "            'distances': fake_distances,\n",
    "            'request_id': data['request_id']\n",
    "        }\n",
    "        m = {'message': response_data, 'signature': \"f\"}\n",
    "        self.redis_client.publish(self.publish_channel, pickle.dumps(m))\n",
    "\n",
    "\n",
    "# Initialize the spoofing node\n",
    "spoofing_node = SpoofingNode(node_id=4, fake_node_id=2)  # Pretending to be node 2\n"
   ]
  }
 ],
 "metadata": {
  "kernelspec": {
   "display_name": "Python 3",
   "language": "python",
   "name": "python3"
  },
  "language_info": {
   "codemirror_mode": {
    "name": "ipython",
    "version": 3
   },
   "file_extension": ".py",
   "mimetype": "text/x-python",
   "name": "python",
   "nbconvert_exporter": "python",
   "pygments_lexer": "ipython3",
   "version": "3.12.3"
  }
 },
 "nbformat": 4,
 "nbformat_minor": 2
}
