{
 "cells": [
  {
   "cell_type": "code",
   "execution_count": 23,
   "metadata": {},
   "outputs": [],
   "source": [
    "import redis\n",
    "import pickle\n",
    "import time\n",
    "import threading\n",
    "import uuid\n",
    "import random\n",
    "\n",
    "\n",
    "class DOSAttackSimulator:\n",
    "    def __init__(self, node_count, request_count, distance='euclidean'):\n",
    "        self.redis_client = redis.StrictRedis(host='localhost', port=6379, db=0, password='secret_key')\n",
    "        self.node_count = node_count\n",
    "        self.request_count = request_count\n",
    "        self.query_channel = 'knn_query_channel'\n",
    "        self.distance = distance\n",
    "      \n",
    "\n",
    "    def generate_random_sample(self):\n",
    "        return [random.uniform(0, 10) for _ in range(64)]\n",
    "\n",
    "    def send_query(self, distance, voting_method):\n",
    "        sample = self.generate_random_sample()\n",
    "        request_id = str(uuid.uuid4())\n",
    "        query_data = {\n",
    "            'sample': sample,\n",
    "            'distance': distance,\n",
    "            'voting_method': voting_method,\n",
    "            'request_id': request_id\n",
    "        }\n",
    "        self.redis_client.publish(self.query_channel, pickle.dumps(query_data))\n",
    "        return request_id\n",
    "\n",
    "    def simulate_attack(self):\n",
    "        threads = []\n",
    "        for _ in range(self.request_count):\n",
    "            t = threading.Thread(target=self.send_query, args=('euclidean','majority_voting'))\n",
    "            threads.append(t)\n",
    "            t.start()\n",
    "            \n",
    "\n",
    "        for t in threads:\n",
    "            t.join()\n",
    "            \n",
    "\n",
    "\n",
    "node_count = 3  # Number of KNN nodes\n",
    "request_count = 10000 # Number of requests to send per node\n",
    "\n",
    "dos_simulator = DOSAttackSimulator(node_count, request_count)\n"
   ]
  },
  {
   "cell_type": "code",
   "execution_count": 22,
   "metadata": {},
   "outputs": [],
   "source": [
    "dos_simulator.simulate_attack()\n",
    "\n",
    "time.sleep(0.01) "
   ]
  }
 ],
 "metadata": {
  "kernelspec": {
   "display_name": "Python 3",
   "language": "python",
   "name": "python3"
  },
  "language_info": {
   "codemirror_mode": {
    "name": "ipython",
    "version": 3
   },
   "file_extension": ".py",
   "mimetype": "text/x-python",
   "name": "python",
   "nbconvert_exporter": "python",
   "pygments_lexer": "ipython3",
   "version": "3.12.3"
  }
 },
 "nbformat": 4,
 "nbformat_minor": 2
}
